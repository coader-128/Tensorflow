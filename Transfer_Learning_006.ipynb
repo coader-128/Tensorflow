{
  "nbformat": 4,
  "nbformat_minor": 0,
  "metadata": {
    "colab": {
      "provenance": [],
      "gpuType": "T4",
      "authorship_tag": "ABX9TyPjevdQgun3ptn8DDuONGyh",
      "include_colab_link": true
    },
    "kernelspec": {
      "name": "python3",
      "display_name": "Python 3"
    },
    "language_info": {
      "name": "python"
    },
    "accelerator": "GPU"
  },
  "cells": [
    {
      "cell_type": "markdown",
      "metadata": {
        "id": "view-in-github",
        "colab_type": "text"
      },
      "source": [
        "<a href=\"https://colab.research.google.com/github/coader-128/Tensorflow/blob/Transfer_Learning/Transfer_Learning_006.ipynb\" target=\"_parent\"><img src=\"https://colab.research.google.com/assets/colab-badge.svg\" alt=\"Open In Colab\"/></a>"
      ]
    },
    {
      "cell_type": "markdown",
      "source": [
        "## Transfer learning  :: Feature Extraction\n",
        "\n",
        "Transfer learning id leveraging a working models exhisting architecture and learn pattern for our own problem\n",
        "\n"
      ],
      "metadata": {
        "id": "2xssUQj9LU_g"
      }
    },
    {
      "cell_type": "code",
      "source": [],
      "metadata": {
        "id": "8bb4OoaFLbLi"
      },
      "execution_count": null,
      "outputs": []
    },
    {
      "cell_type": "markdown",
      "source": [
        "## Downliading and becomimg one with data"
      ],
      "metadata": {
        "id": "eGb52ZGJLybg"
      }
    },
    {
      "cell_type": "code",
      "execution_count": 1,
      "metadata": {
        "id": "8e4Je2AihC3g",
        "colab": {
          "base_uri": "https://localhost:8080/"
        },
        "outputId": "df239539-734f-47a4-f1f0-122c59327922"
      },
      "outputs": [
        {
          "output_type": "stream",
          "name": "stdout",
          "text": [
            "--2023-09-28 14:27:56--  https://storage.googleapis.com/ztm_tf_course/food_vision/10_food_classes_10_percent.zip\n",
            "Resolving storage.googleapis.com (storage.googleapis.com)... 173.194.196.207, 173.194.197.207, 64.233.191.207, ...\n",
            "Connecting to storage.googleapis.com (storage.googleapis.com)|173.194.196.207|:443... connected.\n",
            "HTTP request sent, awaiting response... 200 OK\n",
            "Length: 168546183 (161M) [application/zip]\n",
            "Saving to: ‘10_food_classes_10_percent.zip’\n",
            "\n",
            "10_food_classes_10_ 100%[===================>] 160.74M   153MB/s    in 1.0s    \n",
            "\n",
            "2023-09-28 14:27:57 (153 MB/s) - ‘10_food_classes_10_percent.zip’ saved [168546183/168546183]\n",
            "\n"
          ]
        }
      ],
      "source": [
        "! wget https://storage.googleapis.com/ztm_tf_course/food_vision/10_food_classes_10_percent.zip"
      ]
    },
    {
      "cell_type": "code",
      "source": [
        "import zipfile\n",
        "\n",
        "zip_data = zipfile.ZipFile(\"/content/10_food_classes_10_percent.zip\")\n",
        "\n",
        "zip_data.extractall()\n",
        "zip_data.close()"
      ],
      "metadata": {
        "id": "7xd0jp8611px"
      },
      "execution_count": 2,
      "outputs": []
    },
    {
      "cell_type": "code",
      "source": [
        "# walking through the dataset\n",
        "\n",
        "import os\n",
        "\n",
        "for dirpath , dirnames , filenames in os.walk(\"10_food_classes_10_percent\"):\n",
        "  print(f\"there are {len(dirnames)} directories and {len(filenames)} images in {dirpath} .\" )\n",
        "\n"
      ],
      "metadata": {
        "colab": {
          "base_uri": "https://localhost:8080/"
        },
        "id": "3IhOs0J52DyD",
        "outputId": "afcf64c5-11b6-4cd5-9e95-f7d9602f7838"
      },
      "execution_count": 3,
      "outputs": [
        {
          "output_type": "stream",
          "name": "stdout",
          "text": [
            "there are 2 directories and 0 images in 10_food_classes_10_percent .\n",
            "there are 10 directories and 0 images in 10_food_classes_10_percent/test .\n",
            "there are 0 directories and 250 images in 10_food_classes_10_percent/test/hamburger .\n",
            "there are 0 directories and 250 images in 10_food_classes_10_percent/test/fried_rice .\n",
            "there are 0 directories and 250 images in 10_food_classes_10_percent/test/chicken_wings .\n",
            "there are 0 directories and 250 images in 10_food_classes_10_percent/test/ramen .\n",
            "there are 0 directories and 250 images in 10_food_classes_10_percent/test/steak .\n",
            "there are 0 directories and 250 images in 10_food_classes_10_percent/test/sushi .\n",
            "there are 0 directories and 250 images in 10_food_classes_10_percent/test/pizza .\n",
            "there are 0 directories and 250 images in 10_food_classes_10_percent/test/chicken_curry .\n",
            "there are 0 directories and 250 images in 10_food_classes_10_percent/test/grilled_salmon .\n",
            "there are 0 directories and 250 images in 10_food_classes_10_percent/test/ice_cream .\n",
            "there are 10 directories and 0 images in 10_food_classes_10_percent/train .\n",
            "there are 0 directories and 75 images in 10_food_classes_10_percent/train/hamburger .\n",
            "there are 0 directories and 75 images in 10_food_classes_10_percent/train/fried_rice .\n",
            "there are 0 directories and 75 images in 10_food_classes_10_percent/train/chicken_wings .\n",
            "there are 0 directories and 75 images in 10_food_classes_10_percent/train/ramen .\n",
            "there are 0 directories and 75 images in 10_food_classes_10_percent/train/steak .\n",
            "there are 0 directories and 75 images in 10_food_classes_10_percent/train/sushi .\n",
            "there are 0 directories and 75 images in 10_food_classes_10_percent/train/pizza .\n",
            "there are 0 directories and 75 images in 10_food_classes_10_percent/train/chicken_curry .\n",
            "there are 0 directories and 75 images in 10_food_classes_10_percent/train/grilled_salmon .\n",
            "there are 0 directories and 75 images in 10_food_classes_10_percent/train/ice_cream .\n"
          ]
        }
      ]
    },
    {
      "cell_type": "markdown",
      "source": [
        "## Creating dataset"
      ],
      "metadata": {
        "id": "7e_9AvtGOEK6"
      }
    },
    {
      "cell_type": "code",
      "source": [
        "train_dir = \"/content/10_food_classes_10_percent/train\"\n",
        "test_dir = \"/content/10_food_classes_10_percent/test\"\n"
      ],
      "metadata": {
        "id": "InHm_WeYODbI"
      },
      "execution_count": 9,
      "outputs": []
    },
    {
      "cell_type": "code",
      "source": [
        "from tensorflow.keras.preprocessing.image import ImageDataGenerator\n",
        "\n",
        "train_datagen = ImageDataGenerator(rescale = 1/255.)\n",
        "\n",
        "test_datagen = ImageDataGenerator(rescale = 1/255.)\n",
        "\n",
        "\n",
        "train_data = train_datagen.flow_from_directory(train_dir ,\n",
        "                                               target_size = (224,224),\n",
        "                                               batch_size = 32,\n",
        "                                               class_mode = \"categorical\",\n",
        "                                               color_mode = \"rgb\",\n",
        "                                               shuffle = True)\n",
        "\n",
        "test_data = test_datagen.flow_from_directory(test_dir ,\n",
        "                                              target_size = (224,224),\n",
        "                                              class_mode = \"categorical\",\n",
        "                                              batch_size = 32,\n",
        "                                              color_mode = \"rgb\",\n",
        "                                              shuffle = True)"
      ],
      "metadata": {
        "colab": {
          "base_uri": "https://localhost:8080/"
        },
        "id": "o3L8IyL72Kj3",
        "outputId": "e16def2d-4cce-4851-fd40-75d4f87404b9"
      },
      "execution_count": 10,
      "outputs": [
        {
          "output_type": "stream",
          "name": "stdout",
          "text": [
            "Found 750 images belonging to 10 classes.\n",
            "Found 2500 images belonging to 10 classes.\n"
          ]
        }
      ]
    },
    {
      "cell_type": "markdown",
      "source": [
        "### Setting up calbacks(things to run whilst our model trains)\n",
        "\n",
        "* Callbacks are extra functionality with the **TensorBoard** callbacks\n",
        "* Model checkpoint with **ModelCheckpoint** callback\n",
        "* Stopping a model from training (before it trains too long and overfits) with **EarlyStopping** callbacks\n"
      ],
      "metadata": {
        "id": "fApUO6NkPul6"
      }
    },
    {
      "cell_type": "code",
      "source": [
        "# Create tensorboard call back\n",
        "import tensorflow as tf\n",
        "import datetime\n",
        "\n",
        "def create_tensorboard_callback(dir_name , experiment_name):\n",
        "  log_dir = dir_name + \"/\" + experiment_name + \"/\" + datetime.datetime.now().strftime(\"%Y%m%d-%H%M%S\")\n",
        "  tensorboard_callback = tf.keras.callbacks.TensorBoard(log_dir = log_dir)\n",
        "  print(f\"Saving Tensorboard log file to {log_dir}\")\n",
        "  return tensorboard_callback\n",
        "\n"
      ],
      "metadata": {
        "id": "37fn4cE-3N2K"
      },
      "execution_count": 30,
      "outputs": []
    },
    {
      "cell_type": "markdown",
      "source": [
        "## creating model with tensor flow hub\n",
        "\n",
        "In the past we have used to create model from scratch\n",
        "\n",
        "now we will access pre trained model from tensorflowhub\n",
        "\n",
        "check the tensorflowhub to find pre trained model for the work domain\n",
        "\n",
        "we got \"https://tfhub.dev/tensorflow/efficientnet/b0/feature-vector/1\""
      ],
      "metadata": {
        "id": "nH_nAp59Ty3w"
      }
    },
    {
      "cell_type": "code",
      "source": [
        "# lets compare two model\n",
        "\n",
        "resnet_url = \"https://tfhub.dev/google/imagenet/resnet_v2_50/feature_vector/5\"\n",
        "\n",
        "efficient_url = \"https://tfhub.dev/tensorflow/efficientnet/b0/feature-vector/1\""
      ],
      "metadata": {
        "id": "_S0AD3fxThW-"
      },
      "execution_count": 19,
      "outputs": []
    },
    {
      "cell_type": "code",
      "source": [
        "# import dependencies\n",
        "\n",
        "import tensorflow_hub as hub\n",
        "from tensorflow.keras import layers\n",
        "\n"
      ],
      "metadata": {
        "id": "4sa_mdUFWaB9"
      },
      "execution_count": 20,
      "outputs": []
    },
    {
      "cell_type": "code",
      "source": [
        "\n",
        "def create_model(model_url , num_classes = 10):\n",
        "  \"\"\"takes as tendorflow hub url and create keras sequential model with it\n",
        "\n",
        "  args:\n",
        "    model_url - tf hub feature extraction url\n",
        "    num_classes = number pf targer classes\n",
        "\n",
        "  returns a uncompiled keras sequential model as  feature extractor layer and dense output layers with num_classes\n",
        "\n",
        "    \"\"\"\n",
        "  feature_extractor_layer = hub.KerasLayer(model_url,\n",
        "                                           trainable= False,  # freeze already learn layer\n",
        "                                           name = \"Feature_extraction_layer\",\n",
        "                                           input_shape = (224,224,3))\n",
        "\n",
        "  # create our own model\n",
        "  model = tf.keras.Sequential([\n",
        "      feature_extractor_layer,\n",
        "      layers.Dense(num_classes , activation = \"softmax\" , name = \"output_layer\")\n",
        "  ])\n",
        "\n",
        "  return model\n",
        ""
      ],
      "metadata": {
        "id": "mP4YQO6SWxhM"
      },
      "execution_count": 25,
      "outputs": []
    },
    {
      "cell_type": "markdown",
      "source": [
        "### Creating resnet tensorflow hub feature extracting model"
      ],
      "metadata": {
        "id": "hTWqrO0DYVae"
      }
    },
    {
      "cell_type": "code",
      "source": [
        "resnet_model = create_model(resnet_url,\n",
        "                            num_classes = 10)"
      ],
      "metadata": {
        "id": "uN6Q-d1XYUXH"
      },
      "execution_count": 26,
      "outputs": []
    },
    {
      "cell_type": "code",
      "source": [
        "# compile our model\n",
        "\n",
        "resnet_model.compile(loss = \"categorical_crossentropy\",\n",
        "                     optimizer  = tf.keras.optimizers.Adam(),\n",
        "                     metrics = ['accuracy'])\n"
      ],
      "metadata": {
        "id": "Tbb_EfvLY6vt"
      },
      "execution_count": 28,
      "outputs": []
    },
    {
      "cell_type": "code",
      "source": [
        "history = resnet_model.fit(train_data , epochs = 5 ,\n",
        "                 steps_per_epoch = len(train_data),\n",
        "                 validation_data = test_data,\n",
        "                 validation_steps = len(test_data),\n",
        "                 callbacks = [create_tensorboard_callback(dir_name = \"tensorflow_hub\" ,\n",
        "                                                          experiment_name= \"resnet_v2_50\")])\n",
        "\n",
        "\n",
        ""
      ],
      "metadata": {
        "colab": {
          "base_uri": "https://localhost:8080/"
        },
        "id": "bZdK0QohaB1I",
        "outputId": "0751193c-e79c-46de-d01d-7e772a7b08fa"
      },
      "execution_count": 32,
      "outputs": [
        {
          "output_type": "stream",
          "name": "stdout",
          "text": [
            "Saving Tensorboard log file to tensorflow_hub/resnet_v2_50/20230928-153807\n",
            "Epoch 1/5\n",
            "24/24 [==============================] - 10s 430ms/step - loss: 0.3320 - accuracy: 0.9320 - val_loss: 0.6688 - val_accuracy: 0.7800\n",
            "Epoch 2/5\n",
            "24/24 [==============================] - 11s 448ms/step - loss: 0.2757 - accuracy: 0.9493 - val_loss: 0.6596 - val_accuracy: 0.7872\n",
            "Epoch 3/5\n",
            "24/24 [==============================] - 11s 454ms/step - loss: 0.2345 - accuracy: 0.9627 - val_loss: 0.6470 - val_accuracy: 0.7840\n",
            "Epoch 4/5\n",
            "24/24 [==============================] - 11s 459ms/step - loss: 0.1983 - accuracy: 0.9733 - val_loss: 0.6437 - val_accuracy: 0.7872\n",
            "Epoch 5/5\n",
            "24/24 [==============================] - 11s 452ms/step - loss: 0.1742 - accuracy: 0.9840 - val_loss: 0.6398 - val_accuracy: 0.7828\n"
          ]
        }
      ]
    },
    {
      "cell_type": "code",
      "source": [
        "history.history"
      ],
      "metadata": {
        "id": "j-8duYmJdRnx"
      },
      "execution_count": null,
      "outputs": []
    },
    {
      "cell_type": "code",
      "source": [
        "import numpy as np\n",
        "import matplotlib.pyplot as plt\n",
        "\n",
        "def loss_curves(history):\n",
        "  plt.figure(figsize = (8,4))\n",
        "  epochs = np.arange(len(history.history['loss']))\n",
        "\n",
        "  plt.subplot(1,2,1)\n",
        "  plt.plot(epochs , history.history['loss'] , label = \"training\")\n",
        "  plt.plot(epochs , history.history['val_loss'] , label = \"validation\")\n",
        "  plt.title(\"loss curves\")\n",
        "  plt.xlabel(\"epochs\")\n",
        "  plt.legend()\n",
        "\n",
        "  plt.subplot(1,2,2)\n",
        "  plt.plot(epochs , history.history['accuracy'])\n",
        "  plt.plot(epochs , history.history['val_accuracy'])\n",
        "  plt.xlabel(\"epochs\")\n",
        "  plt.title(\"accuracy curves\")\n",
        "  plt.legend([\"train\",\"validation\"])\n",
        "\n",
        "\n",
        "\n",
        "\n",
        "\n"
      ],
      "metadata": {
        "id": "8y-U356bbfqW"
      },
      "execution_count": 60,
      "outputs": []
    },
    {
      "cell_type": "code",
      "source": [
        "loss_curves(history)"
      ],
      "metadata": {
        "colab": {
          "base_uri": "https://localhost:8080/",
          "height": 408
        },
        "id": "HcvgXcdIdMBb",
        "outputId": "af36b64f-f79d-4c07-b5da-3464907dc87c"
      },
      "execution_count": 53,
      "outputs": [
        {
          "output_type": "stream",
          "name": "stdout",
          "text": [
            "[0 1 2 3 4]\n"
          ]
        },
        {
          "output_type": "display_data",
          "data": {
            "text/plain": [
              "<Figure size 800x400 with 2 Axes>"
            ],
            "image/png": "[encoded data removed]"
          },
          "metadata": {}
        }
      ]
    },
    {
      "cell_type": "markdown",
      "source": [
        "### Creating efficientnet tensorflow hub feature extracting model"
      ],
      "metadata": {
        "id": "C3p02b5KcGPC"
      }
    },
    {
      "cell_type": "code",
      "source": [
        "efficientnet_model = create_model(efficient_url,\n",
        "                            num_classes = 10)\n",
        "\n",
        "resnet_model.compile(loss = \"categorical_crossentropy\",\n",
        "                     optimizer  = tf.keras.optimizers.Adam(),\n",
        "                     metrics = ['accuracy'])\n",
        "\n",
        "efficient_history = resnet_model.fit(train_data , epochs = 5 ,\n",
        "                 steps_per_epoch = len(train_data),\n",
        "                 validation_data = test_data,\n",
        "                 validation_steps = len(test_data),\n",
        "                 callbacks = [create_tensorboard_callback(dir_name = \"tensorflow_hub\" ,\n",
        "                                                          experiment_name= \"efficientnet_b0\")])\n",
        "\n"
      ],
      "metadata": {
        "colab": {
          "base_uri": "https://localhost:8080/"
        },
        "id": "hPEtfl2pcFwn",
        "outputId": "d20c6d98-0070-46a6-8dc0-8d58312dc8d5"
      },
      "execution_count": 62,
      "outputs": [
        {
          "output_type": "stream",
          "name": "stdout",
          "text": [
            "Saving Tensorboard log file to tensorflow_hub/efficientnet_b0/20230928-155819\n",
            "Epoch 1/5\n",
            "24/24 [==============================] - 13s 464ms/step - loss: 0.0584 - accuracy: 0.9973 - val_loss: 0.6430 - val_accuracy: 0.7912\n",
            "Epoch 2/5\n",
            "24/24 [==============================] - 10s 422ms/step - loss: 0.0375 - accuracy: 1.0000 - val_loss: 0.6651 - val_accuracy: 0.7940\n",
            "Epoch 3/5\n",
            "24/24 [==============================] - 11s 450ms/step - loss: 0.0290 - accuracy: 1.0000 - val_loss: 0.6602 - val_accuracy: 0.7936\n",
            "Epoch 4/5\n",
            "24/24 [==============================] - 10s 446ms/step - loss: 0.0238 - accuracy: 1.0000 - val_loss: 0.6659 - val_accuracy: 0.7960\n",
            "Epoch 5/5\n",
            "24/24 [==============================] - 11s 452ms/step - loss: 0.0211 - accuracy: 1.0000 - val_loss: 0.6733 - val_accuracy: 0.7964\n"
          ]
        }
      ]
    },
    {
      "cell_type": "code",
      "source": [
        "loss_curves(efficient_history)"
      ],
      "metadata": {
        "colab": {
          "base_uri": "https://localhost:8080/",
          "height": 410
        },
        "id": "9dm7NCLlfr-u",
        "outputId": "4cf7e45a-c2f7-4f1d-e512-173347b4b7ee"
      },
      "execution_count": 63,
      "outputs": [
        {
          "output_type": "display_data",
          "data": {
            "text/plain": [
              "<Figure size 800x400 with 2 Axes>"
            ],
            "image/png": "[encoded data removed]"
          },
          "metadata": {}
        }
      ]
    },
    {
      "cell_type": "markdown",
      "source": [
        "## Different types of transfer learning\n",
        "* \"As in \" transfer learning - using an exhisting moel with no changes what so ever (e.g using ImageNet model on 1000 InageNet classes , none of ur own)\n",
        "\n",
        "* \"Feature Extraction\" transfer learning - use the pre learned pattern of an exhisting model (Eg EfficientNet50 trained on Imagenet) and adjust the output layer for your own problem (eg 1000 classes 0> 10 classes of food)\n",
        "\n",
        "* \"Fine tuning\" - transfer learning use the pre learned pattern of exhisting model and fine tune many or all of the underlying layers(including the new output layers)"
      ],
      "metadata": {
        "id": "aX2KUz36iX-t"
      }
    },
    {
      "cell_type": "code",
      "source": [],
      "metadata": {
        "id": "_HGqDr2rjnyS"
      },
      "execution_count": null,
      "outputs": []
    },
    {
      "cell_type": "markdown",
      "source": [
        "## Comparing our model using tensorboard\n"
      ],
      "metadata": {
        "id": "qG6oKryikgIv"
      }
    },
    {
      "cell_type": "code",
      "source": [
        "# upload transboard dev records\n",
        "\n",
        "!tensorboard dev upload --logdir ./tensorflow_hub/ \\\n",
        "  --name \"EfficientNetB0 vs ResNet50V2\" \\\n",
        "  --description \"Comaring two model\" \\\n",
        "  --one_shot"
      ],
      "metadata": {
        "colab": {
          "base_uri": "https://localhost:8080/"
        },
        "id": "JgDlZPZAkf36",
        "outputId": "658f1817-7a56-47c1-af7e-eb87f5d3ece1"
      },
      "execution_count": 68,
      "outputs": [
        {
          "output_type": "stream",
          "name": "stdout",
          "text": [
            "2023-09-28 16:26:33.080125: W tensorflow/compiler/tf2tensorrt/utils/py_utils.cc:38] TF-TRT Warning: Could not find TensorRT\n",
            "\n",
            "New experiment created. View your TensorBoard at: https://tensorboard.dev/experiment/VQRNxEC7T4iJNfMu1L0Gxg/\n",
            "\n",
            "\u001b[1m[2023-09-28T16:26:35]\u001b[0m Started scanning logdir.\n",
            "\u001b[1m[2023-09-28T16:26:38]\u001b[0m Total uploaded: 120 scalars, 0 tensors, 4 binary objects (7.2 MB)\n",
            "\u001b[1m[2023-09-28T16:26:38]\u001b[0m Done scanning logdir.\n",
            "\n",
            "\n",
            "Done. View your TensorBoard at https://tensorboard.dev/experiment/VQRNxEC7T4iJNfMu1L0Gxg/\n"
          ]
        }
      ]
    },
    {
      "cell_type": "code",
      "source": [
        "# our tensor board is uploaded"
      ],
      "metadata": {
        "id": "Jd7_jaGOlv-v"
      },
      "execution_count": null,
      "outputs": []
    },
    {
      "cell_type": "code",
      "source": [
        "#check out what tensorboard experiment ypu have\n",
        "! tensorboard dev list"
      ],
      "metadata": {
        "colab": {
          "base_uri": "https://localhost:8080/"
        },
        "id": "oWkPGZygm0Wm",
        "outputId": "7e4f7d97-0f66-421f-c76e-58471014adb2"
      },
      "execution_count": 69,
      "outputs": [
        {
          "output_type": "stream",
          "name": "stdout",
          "text": [
            "2023-09-28 16:26:51.643588: W tensorflow/compiler/tf2tensorrt/utils/py_utils.cc:38] TF-TRT Warning: Could not find TensorRT\n",
            "https://tensorboard.dev/experiment/VQRNxEC7T4iJNfMu1L0Gxg/\n",
            "\tName                 EfficientNetB0 vs ResNet50V2\n",
            "\tDescription          Comaring two model\n",
            "\tId                   VQRNxEC7T4iJNfMu1L0Gxg\n",
            "\tCreated              2023-09-28 16:26:35 (18 seconds ago)\n",
            "\tUpdated              2023-09-28 16:26:38 (15 seconds ago)\n",
            "\tRuns                 8\n",
            "\tTags                 5\n",
            "\tScalars              120\n",
            "\tTensor bytes         0\n",
            "\tBinary object bytes  7518024\n",
            "Total: 1 experiment(s)\n"
          ]
        }
      ]
    },
    {
      "cell_type": "code",
      "source": [
        "# delete an experiment\n",
        "\n",
        "! tensorboard dev delete --experiment_id wb1PWBaESDSqYBQFGxPqIQ"
      ],
      "metadata": {
        "colab": {
          "base_uri": "https://localhost:8080/"
        },
        "id": "2wY4e6IbnBe9",
        "outputId": "436c4421-c0f8-4941-c93d-420ee31f98a5"
      },
      "execution_count": 66,
      "outputs": [
        {
          "output_type": "stream",
          "name": "stdout",
          "text": [
            "2023-09-28 16:26:16.810569: W tensorflow/compiler/tf2tensorrt/utils/py_utils.cc:38] TF-TRT Warning: Could not find TensorRT\n",
            "Deleted experiment wb1PWBaESDSqYBQFGxPqIQ.\n"
          ]
        }
      ]
    }
  ]
}