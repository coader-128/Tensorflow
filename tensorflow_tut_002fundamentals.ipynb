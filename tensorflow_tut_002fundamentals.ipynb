{
  "nbformat": 4,
  "nbformat_minor": 0,
  "metadata": {
    "colab": {
      "provenance": [],
      "gpuType": "T4",
      "authorship_tag": "ABX9TyMI8uadN9PZHDUIfC0O20El",
      "include_colab_link": true
    },
    "kernelspec": {
      "name": "python3",
      "display_name": "Python 3"
    },
    "language_info": {
      "name": "python"
    },
    "accelerator": "GPU"
  },
  "cells": [
    {
      "cell_type": "markdown",
      "metadata": {
        "id": "view-in-github",
        "colab_type": "text"
      },
      "source": [
        "<a href=\"https://colab.research.google.com/github/coader-128/Tensorflow/blob/fundamentals/tensorflow_tut_002fundamentals.ipynb\" target=\"_parent\"><img src=\"https://colab.research.google.com/assets/colab-badge.svg\" alt=\"Open In Colab\"/></a>"
      ]
    },
    {
      "cell_type": "code",
      "execution_count": null,
      "metadata": {
        "id": "zY8ocM4pViBp"
      },
      "outputs": [],
      "source": [
        "import tensorflow as tf"
      ]
    },
    {
      "cell_type": "code",
      "source": [
        "print(tf.__version__)"
      ],
      "metadata": {
        "colab": {
          "base_uri": "https://localhost:8080/"
        },
        "id": "xSFzomYJWWyL",
        "outputId": "115103ee-60fd-4189-fdd4-318861253bda"
      },
      "execution_count": null,
      "outputs": [
        {
          "output_type": "stream",
          "name": "stdout",
          "text": [
            "2.12.0\n"
          ]
        }
      ]
    },
    {
      "cell_type": "code",
      "source": [
        "#creating tensor with tf.constant #specifyong the datatype\n",
        "scalar = tf.constant(7 , dtype = tf.float64)\n",
        "scalar"
      ],
      "metadata": {
        "colab": {
          "base_uri": "https://localhost:8080/"
        },
        "id": "XyhjyA0TWaGG",
        "outputId": "856ed542-5e57-406b-af13-26dfefb5c55c"
      },
      "execution_count": null,
      "outputs": [
        {
          "output_type": "execute_result",
          "data": {
            "text/plain": [
              "<tf.Tensor: shape=(), dtype=float64, numpy=7.0>"
            ]
          },
          "metadata": {},
          "execution_count": 14
        }
      ]
    },
    {
      "cell_type": "code",
      "source": [
        "#cgecking number of dimensoin\n",
        "scalar.ndim"
      ],
      "metadata": {
        "colab": {
          "base_uri": "https://localhost:8080/"
        },
        "id": "-SgxsG15r9lc",
        "outputId": "0a73dc73-092e-4b8a-947c-6e173e352302"
      },
      "execution_count": null,
      "outputs": [
        {
          "output_type": "execute_result",
          "data": {
            "text/plain": [
              "0"
            ]
          },
          "metadata": {},
          "execution_count": 9
        }
      ]
    },
    {
      "cell_type": "code",
      "source": [
        "#creating a avector\n",
        "vector = tf.constant([10,10])\n",
        "print(vector)\n",
        "print(vector.ndim)"
      ],
      "metadata": {
        "colab": {
          "base_uri": "https://localhost:8080/"
        },
        "id": "Dfje5X7jtvvV",
        "outputId": "ab458ce7-ab91-4789-f877-7b1955bb3489"
      },
      "execution_count": null,
      "outputs": [
        {
          "output_type": "stream",
          "name": "stdout",
          "text": [
            "tf.Tensor([10 10], shape=(2,), dtype=int32)\n",
            "1\n"
          ]
        }
      ]
    },
    {
      "cell_type": "code",
      "source": [
        "#creating a matrix\n",
        "matrix = tf.constant([[10,10],\n",
        "                      [23,45]])\n",
        "print(matrix)\n",
        "print(matrix.ndim)"
      ],
      "metadata": {
        "colab": {
          "base_uri": "https://localhost:8080/"
        },
        "id": "eJX_SFbMt9DW",
        "outputId": "04bcac7b-362e-4e7a-90d5-fbe7a643f9b5"
      },
      "execution_count": null,
      "outputs": [
        {
          "output_type": "stream",
          "name": "stdout",
          "text": [
            "tf.Tensor(\n",
            "[[10 10]\n",
            " [23 45]], shape=(2, 2), dtype=int32)\n",
            "2\n"
          ]
        }
      ]
    },
    {
      "cell_type": "code",
      "source": [
        "#creating a tensor\n",
        "\n",
        "tensor = tf.constant([[[1,2,3],\n",
        "                       [4,5,6]],\n",
        "                       [[7,8,9],\n",
        "                       [6,9,0]]])\n",
        "tensor"
      ],
      "metadata": {
        "colab": {
          "base_uri": "https://localhost:8080/"
        },
        "id": "cdNcc7tPvNc0",
        "outputId": "f6a0da96-518e-4143-881b-f1eb8a8be2ff"
      },
      "execution_count": null,
      "outputs": [
        {
          "output_type": "execute_result",
          "data": {
            "text/plain": [
              "<tf.Tensor: shape=(2, 2, 3), dtype=int32, numpy=\n",
              "array([[[1, 2, 3],\n",
              "        [4, 5, 6]],\n",
              "\n",
              "       [[7, 8, 9],\n",
              "        [6, 9, 0]]], dtype=int32)>"
            ]
          },
          "metadata": {},
          "execution_count": 15
        }
      ]
    },
    {
      "cell_type": "markdown",
      "source": [
        "**now we will use tf.Variable  for making variable**"
      ],
      "metadata": {
        "id": "6VvrV_TUwmHe"
      }
    },
    {
      "cell_type": "code",
      "source": [
        "changeble_tensor = tf.Variable([10,7])\n",
        "nchangeble_tensor = tf.constant([10,7])\n",
        "print(changeble_tensor)\n",
        "print(nchangeble_tensor)\n"
      ],
      "metadata": {
        "colab": {
          "base_uri": "https://localhost:8080/"
        },
        "id": "mWG2hI54wlkF",
        "outputId": "c588c357-5ed7-4e46-bc1c-4f5a2a127dc2"
      },
      "execution_count": null,
      "outputs": [
        {
          "output_type": "stream",
          "name": "stdout",
          "text": [
            "<tf.Variable 'Variable:0' shape=(2,) dtype=int32, numpy=array([10,  7], dtype=int32)>\n",
            "tf.Tensor([10  7], shape=(2,), dtype=int32)\n"
          ]
        }
      ]
    },
    {
      "cell_type": "code",
      "source": [
        "#chsnging the elemnets of tensor\n",
        "#  raise error -- changeble_tensor[0] = 7\n",
        "changeble_tensor[0].assign(7)\n"
      ],
      "metadata": {
        "colab": {
          "base_uri": "https://localhost:8080/"
        },
        "id": "RbrY76GIwS6c",
        "outputId": "98b452f6-6e39-4ab8-e782-7064109b4dd0"
      },
      "execution_count": null,
      "outputs": [
        {
          "output_type": "execute_result",
          "data": {
            "text/plain": [
              "<tf.Variable 'UnreadVariable' shape=(2,) dtype=int32, numpy=array([7, 7], dtype=int32)>"
            ]
          },
          "metadata": {},
          "execution_count": 20
        }
      ]
    },
    {
      "cell_type": "code",
      "source": [
        "#changing unchanglele tensor\n",
        "nchangeble_tensor[0].assign(7)"
      ],
      "metadata": {
        "colab": {
          "base_uri": "https://localhost:8080/",
          "height": 314
        },
        "id": "CitTjvrbxyVk",
        "outputId": "9429542c-9f25-4b70-9bbb-b6c9f6842591"
      },
      "execution_count": null,
      "outputs": [
        {
          "output_type": "error",
          "ename": "AttributeError",
          "evalue": "ignored",
          "traceback": [
            "\u001b[0;31m---------------------------------------------------------------------------\u001b[0m",
            "\u001b[0;31mAttributeError\u001b[0m                            Traceback (most recent call last)",
            "\u001b[0;32m<ipython-input-22-97ff45beee23>\u001b[0m in \u001b[0;36m<cell line: 2>\u001b[0;34m()\u001b[0m\n\u001b[1;32m      1\u001b[0m \u001b[0;31m#changing unchanglele tensor\u001b[0m\u001b[0;34m\u001b[0m\u001b[0;34m\u001b[0m\u001b[0m\n\u001b[0;32m----> 2\u001b[0;31m \u001b[0mnchangeble_tensor\u001b[0m\u001b[0;34m[\u001b[0m\u001b[0;36m0\u001b[0m\u001b[0;34m]\u001b[0m\u001b[0;34m.\u001b[0m\u001b[0massign\u001b[0m\u001b[0;34m(\u001b[0m\u001b[0;36m7\u001b[0m\u001b[0;34m)\u001b[0m\u001b[0;34m\u001b[0m\u001b[0;34m\u001b[0m\u001b[0m\n\u001b[0m",
            "\u001b[0;32m/usr/local/lib/python3.10/dist-packages/tensorflow/python/framework/ops.py\u001b[0m in \u001b[0;36m__getattr__\u001b[0;34m(self, name)\u001b[0m\n\u001b[1;32m    441\u001b[0m         \u001b[0mnp_config\u001b[0m\u001b[0;34m.\u001b[0m\u001b[0menable_numpy_behavior\u001b[0m\u001b[0;34m(\u001b[0m\u001b[0;34m)\u001b[0m\u001b[0;34m\u001b[0m\u001b[0;34m\u001b[0m\u001b[0m\n\u001b[1;32m    442\u001b[0m       \"\"\")\n\u001b[0;32m--> 443\u001b[0;31m     \u001b[0mself\u001b[0m\u001b[0;34m.\u001b[0m\u001b[0m__getattribute__\u001b[0m\u001b[0;34m(\u001b[0m\u001b[0mname\u001b[0m\u001b[0;34m)\u001b[0m\u001b[0;34m\u001b[0m\u001b[0;34m\u001b[0m\u001b[0m\n\u001b[0m\u001b[1;32m    444\u001b[0m \u001b[0;34m\u001b[0m\u001b[0m\n\u001b[1;32m    445\u001b[0m   \u001b[0;34m@\u001b[0m\u001b[0mstaticmethod\u001b[0m\u001b[0;34m\u001b[0m\u001b[0;34m\u001b[0m\u001b[0m\n",
            "\u001b[0;31mAttributeError\u001b[0m: 'tensorflow.python.framework.ops.EagerTensor' object has no attribute 'assign'"
          ]
        }
      ]
    },
    {
      "cell_type": "code",
      "source": [
        "#creating the random tensors\n",
        "random_tensors = tf.random.Generator.from_seed(42)\n",
        "random_tensors = random_tensors.normal(shape = (3,2))\n",
        "random_tensors"
      ],
      "metadata": {
        "colab": {
          "base_uri": "https://localhost:8080/"
        },
        "id": "OZEf1nliyLf2",
        "outputId": "6188f96e-7b0d-4bcf-9b1a-59ffd32c603c"
      },
      "execution_count": null,
      "outputs": [
        {
          "output_type": "execute_result",
          "data": {
            "text/plain": [
              "<tf.Tensor: shape=(3, 2), dtype=float32, numpy=\n",
              "array([[-0.7565803 , -0.06854702],\n",
              "       [ 0.07595026, -1.2573844 ],\n",
              "       [-0.23193763, -1.8107855 ]], dtype=float32)>"
            ]
          },
          "metadata": {},
          "execution_count": 39
        }
      ]
    },
    {
      "cell_type": "code",
      "source": [
        "random_tensor = tf.random.Generator.from_seed(43)\n",
        "random_tensor = random_tensor.normal(shape = (3,2))\n",
        "random_tensor"
      ],
      "metadata": {
        "colab": {
          "base_uri": "https://localhost:8080/"
        },
        "id": "4ZfD0sAO1Kzd",
        "outputId": "060e456a-6d76-476c-ef08-7efede292d0d"
      },
      "execution_count": null,
      "outputs": [
        {
          "output_type": "execute_result",
          "data": {
            "text/plain": [
              "<tf.Tensor: shape=(3, 2), dtype=float32, numpy=\n",
              "array([[-0.23193763, -1.8107855 ],\n",
              "       [ 0.09988727, -0.50998646],\n",
              "       [-0.7535805 , -0.57166284]], dtype=float32)>"
            ]
          },
          "metadata": {},
          "execution_count": 33
        }
      ]
    },
    {
      "cell_type": "code",
      "source": [
        "random_tensors == random_tensor"
      ],
      "metadata": {
        "colab": {
          "base_uri": "https://localhost:8080/"
        },
        "id": "nDQp6ta_2EwF",
        "outputId": "d1051265-7550-4155-a65a-6724f15d0985"
      },
      "execution_count": null,
      "outputs": [
        {
          "output_type": "execute_result",
          "data": {
            "text/plain": [
              "<tf.Tensor: shape=(3, 2), dtype=bool, numpy=\n",
              "array([[False, False],\n",
              "       [False, False],\n",
              "       [False, False]])>"
            ]
          },
          "metadata": {},
          "execution_count": 34
        }
      ]
    },
    {
      "cell_type": "code",
      "source": [
        "random_tensor = tf.random.Generator.from_seed(43)\n",
        "random_tensor = random_tensor.uniform(shape = (3,2))\n",
        "print(random_tensor)"
      ],
      "metadata": {
        "colab": {
          "base_uri": "https://localhost:8080/"
        },
        "id": "oiGRusab2MnW",
        "outputId": "c4dba77f-bd6c-4727-9532-b1a26d130615"
      },
      "execution_count": null,
      "outputs": [
        {
          "output_type": "stream",
          "name": "stdout",
          "text": [
            "tf.Tensor(\n",
            "[[0.1889317  0.52027524]\n",
            " [0.8736881  0.46921718]\n",
            " [0.63932586 0.6467117 ]], shape=(3, 2), dtype=float32)\n"
          ]
        }
      ]
    },
    {
      "cell_type": "code",
      "source": [
        "#shuffling the order of tensor\n",
        "#needed when to shuffel the data\n",
        "\n",
        "not_shuffeled = tf.constant([[10,7],\n",
        "                             [10,6],\n",
        "                             [45,7]])\n",
        "not_shuffeled"
      ],
      "metadata": {
        "colab": {
          "base_uri": "https://localhost:8080/"
        },
        "id": "CCDw_UnI2_Ju",
        "outputId": "48b953f7-9d26-426f-907f-aae3513ae2f2"
      },
      "execution_count": null,
      "outputs": [
        {
          "output_type": "execute_result",
          "data": {
            "text/plain": [
              "<tf.Tensor: shape=(3, 2), dtype=int32, numpy=\n",
              "array([[10,  7],\n",
              "       [10,  6],\n",
              "       [45,  7]], dtype=int32)>"
            ]
          },
          "metadata": {},
          "execution_count": 6
        }
      ]
    },
    {
      "cell_type": "code",
      "source": [
        "#shuffeled\n",
        "tf.random.set_seed(43)#global seed\n",
        "tf.random.shuffle(value = not_shuffeled , seed = 43)#operatoinal seed"
      ],
      "metadata": {
        "colab": {
          "base_uri": "https://localhost:8080/"
        },
        "id": "9gKUqKuj35rT",
        "outputId": "d21a2117-f76b-4e2c-826b-83c76e4e565d"
      },
      "execution_count": null,
      "outputs": [
        {
          "output_type": "execute_result",
          "data": {
            "text/plain": [
              "<tf.Tensor: shape=(3, 2), dtype=int32, numpy=\n",
              "array([[10,  7],\n",
              "       [45,  7],\n",
              "       [10,  6]], dtype=int32)>"
            ]
          },
          "metadata": {},
          "execution_count": 15
        }
      ]
    },
    {
      "cell_type": "code",
      "source": [
        "#shuffle along the 1st axis\n",
        "tf.random.shuffle(value = not_shuffeled , seed = 49)"
      ],
      "metadata": {
        "id": "xV2JnQzm4bFl",
        "colab": {
          "base_uri": "https://localhost:8080/"
        },
        "outputId": "0c365d91-52e6-43bd-c5a3-2d741c477fcd"
      },
      "execution_count": null,
      "outputs": [
        {
          "output_type": "execute_result",
          "data": {
            "text/plain": [
              "<tf.Tensor: shape=(3, 2), dtype=int32, numpy=\n",
              "array([[10,  7],\n",
              "       [10,  6],\n",
              "       [45,  7]], dtype=int32)>"
            ]
          },
          "metadata": {},
          "execution_count": 13
        }
      ]
    },
    {
      "cell_type": "markdown",
      "source": [
        "**read random seed in tensorflow and make random teasors**\n"
      ],
      "metadata": {
        "id": "X6Zv7GII5L1x"
      }
    },
    {
      "cell_type": "markdown",
      "source": [
        "**Operations that rely on a random seed actually derive it from two seeds: the** global and operation-level seeds. This sets the global seed.\n",
        "\n",
        "Its interactions with operation-level seeds is as follows:\n",
        "\n",
        "If neither the global seed nor the operation seed is set: A randomly picked seed is used for this op.\n",
        "If the global seed is set, but the operation seed is not: The system deterministically picks an operation seed in conjunction with the global seed so that it gets a unique random sequence. Within the same version of tensorflow and user code, this sequence is deterministic. However across different versions, this sequence might change. If the code depends on particular seeds to work, specify both global and operation-level seeds explicitly.\n",
        "If the operation seed is set, but the global seed is not set: A default global seed and the specified operation seed are used to determine the random sequence.\n",
        "If both the global and the operation seed are set: Both seeds are used in conjunction to determine the random sequence.\n",
        "To illustrate the user-visible effects, consider these examples:\n",
        "\n",
        "If neither the global seed nor the operation seed is set, we get different results for every call to the random op and every re-run of the program ** **bold text**"
      ],
      "metadata": {
        "id": "lrJyhdRu1f62"
      }
    },
    {
      "cell_type": "code",
      "source": [
        "import numpy as np\n",
        "ones = np.ones(shape = (2,2))\n",
        "print(ones)"
      ],
      "metadata": {
        "colab": {
          "base_uri": "https://localhost:8080/"
        },
        "id": "wnT75wrh1fYf",
        "outputId": "ffa42327-8f16-4c7a-b745-7af9fc9c4ebd"
      },
      "execution_count": null,
      "outputs": [
        {
          "output_type": "stream",
          "name": "stdout",
          "text": [
            "[[1. 1.]\n",
            " [1. 1.]]\n"
          ]
        }
      ]
    },
    {
      "cell_type": "code",
      "source": [
        "#creating tensor with all ones\n",
        "z = tf.ones((10,1,1) , dtype = tf.int8)\n",
        "z"
      ],
      "metadata": {
        "id": "aVdY0Vj65LHC",
        "colab": {
          "base_uri": "https://localhost:8080/"
        },
        "outputId": "bac94de5-dded-4952-f2a8-cf885f628098"
      },
      "execution_count": null,
      "outputs": [
        {
          "output_type": "execute_result",
          "data": {
            "text/plain": [
              "<tf.Tensor: shape=(10, 1, 1), dtype=int8, numpy=\n",
              "array([[[1]],\n",
              "\n",
              "       [[1]],\n",
              "\n",
              "       [[1]],\n",
              "\n",
              "       [[1]],\n",
              "\n",
              "       [[1]],\n",
              "\n",
              "       [[1]],\n",
              "\n",
              "       [[1]],\n",
              "\n",
              "       [[1]],\n",
              "\n",
              "       [[1]],\n",
              "\n",
              "       [[1]]], dtype=int8)>"
            ]
          },
          "metadata": {},
          "execution_count": 27
        }
      ]
    },
    {
      "cell_type": "code",
      "source": [
        "#with zeros\n",
        "zeros = tf.zeros((2,2) , dtype = tf.int32)\n",
        "zeros"
      ],
      "metadata": {
        "colab": {
          "base_uri": "https://localhost:8080/"
        },
        "id": "jA4Od7Ve2jfr",
        "outputId": "a5fdc1ab-0f11-4dd3-b7b2-e625588905e2"
      },
      "execution_count": null,
      "outputs": [
        {
          "output_type": "execute_result",
          "data": {
            "text/plain": [
              "<tf.Tensor: shape=(2, 2), dtype=int32, numpy=\n",
              "array([[0, 0],\n",
              "       [0, 0]], dtype=int32)>"
            ]
          },
          "metadata": {},
          "execution_count": 29
        }
      ]
    },
    {
      "cell_type": "markdown",
      "source": [
        "**Turn numpy array into tensors**"
      ],
      "metadata": {
        "id": "c9C_83Y128fe"
      }
    },
    {
      "cell_type": "code",
      "source": [
        "numpy_array = np.arange(1,25 , dtype = np.int32)\n",
        "numpy_array"
      ],
      "metadata": {
        "colab": {
          "base_uri": "https://localhost:8080/"
        },
        "id": "Lk38M_lU278m",
        "outputId": "318df043-fb5d-4753-f4a5-5b93442d7b0e"
      },
      "execution_count": null,
      "outputs": [
        {
          "output_type": "execute_result",
          "data": {
            "text/plain": [
              "array([ 1,  2,  3,  4,  5,  6,  7,  8,  9, 10, 11, 12, 13, 14, 15, 16, 17,\n",
              "       18, 19, 20, 21, 22, 23, 24], dtype=int32)"
            ]
          },
          "metadata": {},
          "execution_count": 31
        }
      ]
    },
    {
      "cell_type": "code",
      "source": [
        "A = tf.constant(numpy_array , shape = (2,3,4))\n",
        "print(A)"
      ],
      "metadata": {
        "colab": {
          "base_uri": "https://localhost:8080/"
        },
        "id": "OSyZdmja3axF",
        "outputId": "ed47f05b-1e07-4104-b5f3-711fb80ecc03"
      },
      "execution_count": null,
      "outputs": [
        {
          "output_type": "stream",
          "name": "stdout",
          "text": [
            "tf.Tensor(\n",
            "[[[ 1  2  3  4]\n",
            "  [ 5  6  7  8]\n",
            "  [ 9 10 11 12]]\n",
            "\n",
            " [[13 14 15 16]\n",
            "  [17 18 19 20]\n",
            "  [21 22 23 24]]], shape=(2, 3, 4), dtype=int32)\n"
          ]
        }
      ]
    },
    {
      "cell_type": "markdown",
      "source": [
        "**Get information about the tensor**\n",
        "  * Shape\n",
        "  * Rank or dim\n",
        "  * Axis\n",
        "  * Size\n"
      ],
      "metadata": {
        "id": "D42jkFthAn8O"
      }
    },
    {
      "cell_type": "code",
      "source": [
        "A.shape, A.ndim"
      ],
      "metadata": {
        "colab": {
          "base_uri": "https://localhost:8080/"
        },
        "id": "m0BbEJo_Acz_",
        "outputId": "781a1270-abf2-4039-a648-d3fa4fb8a15c"
      },
      "execution_count": null,
      "outputs": [
        {
          "output_type": "execute_result",
          "data": {
            "text/plain": [
              "(TensorShape([2, 3, 4]), 3)"
            ]
          },
          "metadata": {},
          "execution_count": 37
        }
      ]
    },
    {
      "cell_type": "code",
      "source": [
        "tf.size(A)"
      ],
      "metadata": {
        "colab": {
          "base_uri": "https://localhost:8080/"
        },
        "id": "QVfK8K1fB0SJ",
        "outputId": "93393de5-9114-432a-b4fa-10a9649dc609"
      },
      "execution_count": null,
      "outputs": [
        {
          "output_type": "execute_result",
          "data": {
            "text/plain": [
              "<tf.Tensor: shape=(), dtype=int32, numpy=24>"
            ]
          },
          "metadata": {},
          "execution_count": 38
        }
      ]
    },
    {
      "cell_type": "code",
      "source": [
        "print(\"Elements along the 0 axis \", A.shape[0])\n",
        "print(\"total elemnts in the tensor \",tf.size(A).numpy())"
      ],
      "metadata": {
        "colab": {
          "base_uri": "https://localhost:8080/"
        },
        "id": "q2lX_SpnB7w0",
        "outputId": "6be2a2d3-bbe6-4696-8e11-4b74e4de3607"
      },
      "execution_count": null,
      "outputs": [
        {
          "output_type": "stream",
          "name": "stdout",
          "text": [
            "Elements along the 0 axis  2\n",
            "total elemnts in the tensor  24\n"
          ]
        }
      ]
    },
    {
      "cell_type": "markdown",
      "source": [
        "**Indexing and expanding tensors**"
      ],
      "metadata": {
        "id": "oQt5G9rCC1NM"
      }
    },
    {
      "cell_type": "code",
      "source": [
        "tensor_rank_4 = tf.zeros((2,3,4,5) , dtype = tf.int32)\n",
        "print(tensor_rank_4)"
      ],
      "metadata": {
        "colab": {
          "base_uri": "https://localhost:8080/"
        },
        "id": "9Q6jsx5OC84A",
        "outputId": "4b40dd17-08d2-4511-cb49-2a3eee6012f5"
      },
      "execution_count": null,
      "outputs": [
        {
          "output_type": "stream",
          "name": "stdout",
          "text": [
            "tf.Tensor(\n",
            "[[[[0 0 0 0 0]\n",
            "   [0 0 0 0 0]\n",
            "   [0 0 0 0 0]\n",
            "   [0 0 0 0 0]]\n",
            "\n",
            "  [[0 0 0 0 0]\n",
            "   [0 0 0 0 0]\n",
            "   [0 0 0 0 0]\n",
            "   [0 0 0 0 0]]\n",
            "\n",
            "  [[0 0 0 0 0]\n",
            "   [0 0 0 0 0]\n",
            "   [0 0 0 0 0]\n",
            "   [0 0 0 0 0]]]\n",
            "\n",
            "\n",
            " [[[0 0 0 0 0]\n",
            "   [0 0 0 0 0]\n",
            "   [0 0 0 0 0]\n",
            "   [0 0 0 0 0]]\n",
            "\n",
            "  [[0 0 0 0 0]\n",
            "   [0 0 0 0 0]\n",
            "   [0 0 0 0 0]\n",
            "   [0 0 0 0 0]]\n",
            "\n",
            "  [[0 0 0 0 0]\n",
            "   [0 0 0 0 0]\n",
            "   [0 0 0 0 0]\n",
            "   [0 0 0 0 0]]]], shape=(2, 3, 4, 5), dtype=int32)\n"
          ]
        }
      ]
    },
    {
      "cell_type": "code",
      "source": [
        "tensor_rank_4[ :2 , :2 , :2 ,:2 ]"
      ],
      "metadata": {
        "colab": {
          "base_uri": "https://localhost:8080/"
        },
        "id": "m2jEofE8DPM1",
        "outputId": "7f7f5baa-18b3-428c-fc06-28cb9996dd5a"
      },
      "execution_count": null,
      "outputs": [
        {
          "output_type": "execute_result",
          "data": {
            "text/plain": [
              "<tf.Tensor: shape=(2, 2, 2, 2), dtype=int32, numpy=\n",
              "array([[[[0, 0],\n",
              "         [0, 0]],\n",
              "\n",
              "        [[0, 0],\n",
              "         [0, 0]]],\n",
              "\n",
              "\n",
              "       [[[0, 0],\n",
              "         [0, 0]],\n",
              "\n",
              "        [[0, 0],\n",
              "         [0, 0]]]], dtype=int32)>"
            ]
          },
          "metadata": {},
          "execution_count": 48
        }
      ]
    },
    {
      "cell_type": "code",
      "source": [
        "#get each dimension from each other except for the final one\n",
        "tensor_rank_4[:1 , :1 , : ,:1]"
      ],
      "metadata": {
        "colab": {
          "base_uri": "https://localhost:8080/"
        },
        "id": "hqFUdO7RD2WX",
        "outputId": "60263c10-f186-4144-d4eb-b1aa2c87eecf"
      },
      "execution_count": null,
      "outputs": [
        {
          "output_type": "execute_result",
          "data": {
            "text/plain": [
              "<tf.Tensor: shape=(1, 1, 4, 1), dtype=int32, numpy=\n",
              "array([[[[0],\n",
              "         [0],\n",
              "         [0],\n",
              "         [0]]]], dtype=int32)>"
            ]
          },
          "metadata": {},
          "execution_count": 51
        }
      ]
    },
    {
      "cell_type": "markdown",
      "source": [
        "**RESHAPING THE TENSORS**"
      ],
      "metadata": {
        "id": "uYQErpC0EZG_"
      }
    },
    {
      "cell_type": "code",
      "source": [
        "rank_2 = tf.random.Generator.from_seed(42)\n",
        "rank_2 = rank_2.normal(shape = (2,2))\n",
        "print(rank_2)"
      ],
      "metadata": {
        "colab": {
          "base_uri": "https://localhost:8080/"
        },
        "id": "tyRfUXZTEejU",
        "outputId": "124e4dcf-4aa9-45c4-f67d-f526f395e2fb"
      },
      "execution_count": null,
      "outputs": [
        {
          "output_type": "stream",
          "name": "stdout",
          "text": [
            "tf.Tensor(\n",
            "[[-0.7565803  -0.06854702]\n",
            " [ 0.07595026 -1.2573844 ]], shape=(2, 2), dtype=float32)\n"
          ]
        }
      ]
    },
    {
      "cell_type": "code",
      "source": [
        "#last elemtnr of tensor\n",
        "rank_2[:-1].numpy()"
      ],
      "metadata": {
        "colab": {
          "base_uri": "https://localhost:8080/"
        },
        "id": "1NnbF1w5E2br",
        "outputId": "837db38a-2c99-4e13-9739-b4262fe7168a"
      },
      "execution_count": null,
      "outputs": [
        {
          "output_type": "execute_result",
          "data": {
            "text/plain": [
              "array([[-0.7565803 , -0.06854702]], dtype=float32)"
            ]
          },
          "metadata": {},
          "execution_count": 63
        }
      ]
    },
    {
      "cell_type": "code",
      "source": [
        "#adding the extra dimnesion\n",
        "\n",
        "rank_3 = rank_2[... , tf.newaxis]\n",
        "#rank_3 = rank_2[:,: , tf.newaxis]\n",
        "rank_3"
      ],
      "metadata": {
        "colab": {
          "base_uri": "https://localhost:8080/"
        },
        "id": "JKMReMROFcOg",
        "outputId": "1c16e0d9-7fa6-4c6b-d280-22f4c1894fde"
      },
      "execution_count": null,
      "outputs": [
        {
          "output_type": "execute_result",
          "data": {
            "text/plain": [
              "<tf.Tensor: shape=(2, 2, 1), dtype=float32, numpy=\n",
              "array([[[-0.7565803 ],\n",
              "        [-0.06854702]],\n",
              "\n",
              "       [[ 0.07595026],\n",
              "        [-1.2573844 ]]], dtype=float32)>"
            ]
          },
          "metadata": {},
          "execution_count": 65
        }
      ]
    },
    {
      "cell_type": "code",
      "source": [
        "#alternative\n",
        "\n",
        "rank_3 = tf.expand_dims(rank_2 , axis = -1)\n",
        "rank_3.shape"
      ],
      "metadata": {
        "colab": {
          "base_uri": "https://localhost:8080/"
        },
        "id": "E4fOOVgXGFZv",
        "outputId": "43df91c2-d403-4088-87a1-d80a831f4d88"
      },
      "execution_count": null,
      "outputs": [
        {
          "output_type": "execute_result",
          "data": {
            "text/plain": [
              "TensorShape([2, 2, 1])"
            ]
          },
          "metadata": {},
          "execution_count": 75
        }
      ]
    },
    {
      "cell_type": "code",
      "source": [
        "#manipulating tensors basic opeation\n",
        "import tensorflow as tf\n",
        "\n",
        "tensor = tf.ones(shape = (2,2),dtype = tf.int32)\n",
        "tensor"
      ],
      "metadata": {
        "id": "-pPmH8EwGpac",
        "colab": {
          "base_uri": "https://localhost:8080/"
        },
        "outputId": "9408aa8c-1e66-4738-c825-73d511ba956b"
      },
      "execution_count": null,
      "outputs": [
        {
          "output_type": "execute_result",
          "data": {
            "text/plain": [
              "<tf.Tensor: shape=(2, 2), dtype=int32, numpy=\n",
              "array([[1, 1],\n",
              "       [1, 1]], dtype=int32)>"
            ]
          },
          "metadata": {},
          "execution_count": 4
        }
      ]
    },
    {
      "cell_type": "code",
      "source": [
        "tensor + 10 #addition -- each elemnet increased by 10"
      ],
      "metadata": {
        "colab": {
          "base_uri": "https://localhost:8080/"
        },
        "id": "RKkeSiCon3sR",
        "outputId": "a682f4ca-6039-4bfe-9cff-5d472d86371a"
      },
      "execution_count": null,
      "outputs": [
        {
          "output_type": "execute_result",
          "data": {
            "text/plain": [
              "<tf.Tensor: shape=(2, 2), dtype=int32, numpy=\n",
              "array([[11, 11],\n",
              "       [11, 11]], dtype=int32)>"
            ]
          },
          "metadata": {},
          "execution_count": 5
        }
      ]
    },
    {
      "cell_type": "code",
      "source": [
        "tensor - 4\n"
      ],
      "metadata": {
        "colab": {
          "base_uri": "https://localhost:8080/"
        },
        "id": "aOr8T2o0n-Pj",
        "outputId": "2f047fbd-20f7-470b-daa6-88ed25297631"
      },
      "execution_count": null,
      "outputs": [
        {
          "output_type": "execute_result",
          "data": {
            "text/plain": [
              "<tf.Tensor: shape=(2, 2), dtype=int32, numpy=\n",
              "array([[-3, -3],\n",
              "       [-3, -3]], dtype=int32)>"
            ]
          },
          "metadata": {},
          "execution_count": 6
        }
      ]
    },
    {
      "cell_type": "code",
      "source": [
        "tensor * 2"
      ],
      "metadata": {
        "colab": {
          "base_uri": "https://localhost:8080/"
        },
        "id": "lqWJGdeRoF4Y",
        "outputId": "de7c42aa-17b6-4761-c965-a93c7cb76b3b"
      },
      "execution_count": null,
      "outputs": [
        {
          "output_type": "execute_result",
          "data": {
            "text/plain": [
              "<tf.Tensor: shape=(2, 2), dtype=int32, numpy=\n",
              "array([[2, 2],\n",
              "       [2, 2]], dtype=int32)>"
            ]
          },
          "metadata": {},
          "execution_count": 7
        }
      ]
    },
    {
      "cell_type": "code",
      "source": [
        "tensor / 3"
      ],
      "metadata": {
        "colab": {
          "base_uri": "https://localhost:8080/"
        },
        "id": "Le96SpZZoH7u",
        "outputId": "d756a14f-caea-48c6-8691-69d240aee827"
      },
      "execution_count": null,
      "outputs": [
        {
          "output_type": "execute_result",
          "data": {
            "text/plain": [
              "<tf.Tensor: shape=(2, 2), dtype=float64, numpy=\n",
              "array([[0.33333333, 0.33333333],\n",
              "       [0.33333333, 0.33333333]])>"
            ]
          },
          "metadata": {},
          "execution_count": 8
        }
      ]
    },
    {
      "cell_type": "code",
      "source": [
        "#tensorflow built in function\n",
        "tf.multiply(tensor , 10)"
      ],
      "metadata": {
        "colab": {
          "base_uri": "https://localhost:8080/"
        },
        "id": "AVMvvjj4oLwU",
        "outputId": "1a3ccdf2-1557-4833-c263-5247c2617b39"
      },
      "execution_count": null,
      "outputs": [
        {
          "output_type": "execute_result",
          "data": {
            "text/plain": [
              "<tf.Tensor: shape=(2, 2), dtype=int32, numpy=\n",
              "array([[10, 10],\n",
              "       [10, 10]], dtype=int32)>"
            ]
          },
          "metadata": {},
          "execution_count": 9
        }
      ]
    },
    {
      "cell_type": "code",
      "source": [
        "tf.math.multiply(tensor+3 , tensor+2) #lement by elemenet"
      ],
      "metadata": {
        "colab": {
          "base_uri": "https://localhost:8080/"
        },
        "id": "ek9OdD0ioWOO",
        "outputId": "1d6f4377-b2ca-456a-a242-a10fca4b5c4e"
      },
      "execution_count": null,
      "outputs": [
        {
          "output_type": "execute_result",
          "data": {
            "text/plain": [
              "<tf.Tensor: shape=(2, 2), dtype=int32, numpy=\n",
              "array([[12, 12],\n",
              "       [12, 12]], dtype=int32)>"
            ]
          },
          "metadata": {},
          "execution_count": 12
        }
      ]
    },
    {
      "cell_type": "code",
      "source": [
        "tf.math.add(tensor , tensor)"
      ],
      "metadata": {
        "colab": {
          "base_uri": "https://localhost:8080/"
        },
        "id": "WzkDlkpSoc0c",
        "outputId": "9d442bd8-ab44-42cf-e8ef-1f5d627765d6"
      },
      "execution_count": null,
      "outputs": [
        {
          "output_type": "execute_result",
          "data": {
            "text/plain": [
              "<tf.Tensor: shape=(2, 2), dtype=int32, numpy=\n",
              "array([[2, 2],\n",
              "       [2, 2]], dtype=int32)>"
            ]
          },
          "metadata": {},
          "execution_count": 13
        }
      ]
    },
    {
      "cell_type": "markdown",
      "source": [
        "**Matrix multiplcation**\n",
        "  * Its the most common operation with tensor"
      ],
      "metadata": {
        "id": "dvvqlOI4owDt"
      }
    },
    {
      "cell_type": "code",
      "source": [
        "#matrix multiolecation\n",
        "tensor_1 = tf.constant([[1,2],[3,4]])\n",
        "tensor_2 = tf.constant([[5,6],[7,8]])\n",
        "\n",
        "print(tf.linalg.matmul(tensor_1 , tensor_2))\n",
        "print(tensor_1 * tensor_2)\n"
      ],
      "metadata": {
        "colab": {
          "base_uri": "https://localhost:8080/"
        },
        "id": "VOT57pJNo1PA",
        "outputId": "5ab5d8a7-9342-4976-eccd-2359b1a93c1f"
      },
      "execution_count": null,
      "outputs": [
        {
          "output_type": "stream",
          "name": "stdout",
          "text": [
            "tf.Tensor(\n",
            "[[19 22]\n",
            " [43 50]], shape=(2, 2), dtype=int32)\n",
            "tf.Tensor(\n",
            "[[ 5 12]\n",
            " [21 32]], shape=(2, 2), dtype=int32)\n"
          ]
        }
      ]
    },
    {
      "cell_type": "code",
      "source": [
        "# opreation with operator\n",
        "tensor_1 @ tensor_2"
      ],
      "metadata": {
        "colab": {
          "base_uri": "https://localhost:8080/"
        },
        "id": "lgxFeVfqp4fx",
        "outputId": "71bfd082-673a-47e6-ea23-4cd5b31340f3"
      },
      "execution_count": null,
      "outputs": [
        {
          "output_type": "execute_result",
          "data": {
            "text/plain": [
              "<tf.Tensor: shape=(2, 2), dtype=int32, numpy=\n",
              "array([[19, 22],\n",
              "       [43, 50]], dtype=int32)>"
            ]
          },
          "metadata": {},
          "execution_count": 17
        }
      ]
    },
    {
      "cell_type": "code",
      "source": [
        "tensor_3_2 = tf.ones(shape = (3,2))\n",
        "tensor_3_2_ = tf.ones(shape = (3,2))+4\n",
        "tensor_3_2_ @ tf.transpose(tensor_3_2) #with transpose"
      ],
      "metadata": {
        "colab": {
          "base_uri": "https://localhost:8080/"
        },
        "id": "WfuLemr9qC4S",
        "outputId": "30d676c9-4d9c-49d4-a3e8-9b1902565bff"
      },
      "execution_count": null,
      "outputs": [
        {
          "output_type": "execute_result",
          "data": {
            "text/plain": [
              "<tf.Tensor: shape=(3, 3), dtype=float32, numpy=\n",
              "array([[10., 10., 10.],\n",
              "       [10., 10., 10.],\n",
              "       [10., 10., 10.]], dtype=float32)>"
            ]
          },
          "metadata": {},
          "execution_count": 23
        }
      ]
    },
    {
      "cell_type": "code",
      "source": [
        "tensor_3_2_ = tf.reshape( tensor_3_2_ , shape = (2,3))#wit reshape\n",
        "tf.linalg.matmul(tensor_3_2 , tensor_3_2_)"
      ],
      "metadata": {
        "colab": {
          "base_uri": "https://localhost:8080/"
        },
        "id": "YhH0QJAyq74s",
        "outputId": "5846a0b4-4a2f-45ee-aadb-c3c966a5d4f9"
      },
      "execution_count": null,
      "outputs": [
        {
          "output_type": "execute_result",
          "data": {
            "text/plain": [
              "<tf.Tensor: shape=(3, 3), dtype=float32, numpy=\n",
              "array([[10., 10., 10.],\n",
              "       [10., 10., 10.],\n",
              "       [10., 10., 10.]], dtype=float32)>"
            ]
          },
          "metadata": {},
          "execution_count": 25
        }
      ]
    },
    {
      "cell_type": "code",
      "source": [
        "# \"\"\"Matrix dot product and cross product\"\"\"\n",
        "\n",
        "tensor_1 = tf.random.Generator.from_seed(43) #using it to create reproducable tensor\n",
        "tensor_1 = tensor_1.uniform( shape = (3,3) ,minval = 4 ,maxval = 8 , dtype = tf.int32)\n",
        "print(tensor_1.numpy())"
      ],
      "metadata": {
        "colab": {
          "base_uri": "https://localhost:8080/"
        },
        "id": "IP1lWHYAsE1c",
        "outputId": "be38e952-214e-43fe-9bae-a5fa0f9c11ba"
      },
      "execution_count": null,
      "outputs": [
        {
          "output_type": "stream",
          "name": "stdout",
          "text": [
            "[[6 5 7]\n",
            " [7 6 7]\n",
            " [7 6 4]]\n"
          ]
        }
      ]
    },
    {
      "cell_type": "code",
      "source": [
        "tensor_2 = tf.random.Generator.from_seed(45) #using it to create reproducable tensor\n",
        "tensor_2 = tensor_2.uniform( shape = (3,3) ,minval = 4 ,maxval = 8 , dtype = tf.int32)\n",
        "print(tensor_2.numpy())"
      ],
      "metadata": {
        "colab": {
          "base_uri": "https://localhost:8080/"
        },
        "id": "e1AideOTt_-m",
        "outputId": "25d23ee0-6537-4e65-a7eb-03424d2fafe6"
      },
      "execution_count": null,
      "outputs": [
        {
          "output_type": "stream",
          "name": "stdout",
          "text": [
            "[[4 5 7]\n",
            " [6 4 5]\n",
            " [6 7 7]]\n"
          ]
        }
      ]
    },
    {
      "cell_type": "code",
      "source": [
        "tf.tensordot(tensor_1 , tensor_2 , axes =1)"
      ],
      "metadata": {
        "colab": {
          "base_uri": "https://localhost:8080/"
        },
        "id": "1u2NhY64uumz",
        "outputId": "ee4d53cf-72eb-43de-8c6a-d58de46098c5"
      },
      "execution_count": null,
      "outputs": [
        {
          "output_type": "execute_result",
          "data": {
            "text/plain": [
              "<tf.Tensor: shape=(3, 3), dtype=int32, numpy=\n",
              "array([[ 96,  99, 116],\n",
              "       [106, 108, 128],\n",
              "       [ 88,  87, 107]], dtype=int32)>"
            ]
          },
          "metadata": {},
          "execution_count": 52
        }
      ]
    },
    {
      "cell_type": "code",
      "source": [
        "# if there is error in different dim then transpose it not reshape"
      ],
      "metadata": {
        "id": "IHngUioNvKsy"
      },
      "execution_count": null,
      "outputs": []
    },
    {
      "cell_type": "code",
      "source": [
        "import tensorflow as tf\n",
        "#changing the datatype\n",
        "B = tf.constant([1.5 , 4.6])\n",
        "C = tf.constant([3,4])\n",
        "print(B , C)"
      ],
      "metadata": {
        "colab": {
          "base_uri": "https://localhost:8080/"
        },
        "id": "gQEl2uDDyXd-",
        "outputId": "5f037129-75f0-4d86-ee0c-ecb27363cb20"
      },
      "execution_count": null,
      "outputs": [
        {
          "output_type": "stream",
          "name": "stdout",
          "text": [
            "tf.Tensor([1.5 4.6], shape=(2,), dtype=float32) tf.Tensor([3 4], shape=(2,), dtype=int32)\n"
          ]
        }
      ]
    },
    {
      "cell_type": "code",
      "source": [
        "B = tf.cast(B , dtype = tf.float16) # hardware runs faster on 16 bit\n",
        "B"
      ],
      "metadata": {
        "colab": {
          "base_uri": "https://localhost:8080/"
        },
        "id": "OSbGDnSKyxEj",
        "outputId": "8a3fe702-88ca-4bc1-9039-79e42551d4d2"
      },
      "execution_count": null,
      "outputs": [
        {
          "output_type": "execute_result",
          "data": {
            "text/plain": [
              "<tf.Tensor: shape=(2,), dtype=float16, numpy=array([1.5, 4.6], dtype=float16)>"
            ]
          },
          "metadata": {},
          "execution_count": 3
        }
      ]
    },
    {
      "cell_type": "code",
      "source": [
        "C = tf.cast(C , dtype = tf.float64)\n",
        "C"
      ],
      "metadata": {
        "colab": {
          "base_uri": "https://localhost:8080/"
        },
        "id": "S7_gisO0zPXf",
        "outputId": "54eb6507-9698-4596-8e3c-46c6c1448bb9"
      },
      "execution_count": null,
      "outputs": [
        {
          "output_type": "execute_result",
          "data": {
            "text/plain": [
              "<tf.Tensor: shape=(2,), dtype=float64, numpy=array([3., 4.])>"
            ]
          },
          "metadata": {},
          "execution_count": 5
        }
      ]
    },
    {
      "cell_type": "markdown",
      "source": [
        " **Aggregating tensors**\n",
        "\n",
        "  Condensing them from multiple values down to a smaller amount of values.\n",
        "\n",
        "    * get min\n",
        "    * get mx\n",
        "    * get mean\n",
        "    * get sum"
      ],
      "metadata": {
        "id": "CoX6DdHEzpMZ"
      }
    },
    {
      "cell_type": "code",
      "source": [
        "D = tf.constant([-7.89 , -10])\n",
        "print(D)\n",
        "print(tf.abs(D))"
      ],
      "metadata": {
        "colab": {
          "base_uri": "https://localhost:8080/"
        },
        "id": "Ew-3b-GMzhN9",
        "outputId": "2e85745e-d6da-4b09-e449-d819a4331175"
      },
      "execution_count": null,
      "outputs": [
        {
          "output_type": "stream",
          "name": "stdout",
          "text": [
            "tf.Tensor([ -7.89 -10.  ], shape=(2,), dtype=float32)\n",
            "tf.Tensor([ 7.89 10.  ], shape=(2,), dtype=float32)\n"
          ]
        }
      ]
    },
    {
      "cell_type": "code",
      "source": [
        "rand = tf.random.Generator.from_seed(43)\n",
        "rand = rand.uniform((50,) , minval = 0 , maxval = 100 ,dtype = tf.int32 )\n"
      ],
      "metadata": {
        "id": "f4JlCu8a3Zg0"
      },
      "execution_count": null,
      "outputs": []
    },
    {
      "cell_type": "code",
      "source": [
        "rand.ndim , tf.size(rand) , rand.shape"
      ],
      "metadata": {
        "colab": {
          "base_uri": "https://localhost:8080/"
        },
        "id": "8cqELG3D4Tux",
        "outputId": "bb1d02d2-c301-4b6e-c920-63fbd495b3a2"
      },
      "execution_count": null,
      "outputs": [
        {
          "output_type": "execute_result",
          "data": {
            "text/plain": [
              "(1, <tf.Tensor: shape=(), dtype=int32, numpy=50>, TensorShape([50]))"
            ]
          },
          "metadata": {},
          "execution_count": 20
        }
      ]
    },
    {
      "cell_type": "code",
      "source": [
        "#finding the minimum\n",
        "tf.reduce_min(rand)"
      ],
      "metadata": {
        "colab": {
          "base_uri": "https://localhost:8080/"
        },
        "id": "gCToqcCk4d1Z",
        "outputId": "332bd0f1-2e89-49ab-f395-8820c469486e"
      },
      "execution_count": null,
      "outputs": [
        {
          "output_type": "execute_result",
          "data": {
            "text/plain": [
              "<tf.Tensor: shape=(), dtype=int32, numpy=7>"
            ]
          },
          "metadata": {},
          "execution_count": 21
        }
      ]
    },
    {
      "cell_type": "code",
      "source": [
        "#get the max\n",
        "print(\"the min val is \" , tf.math.reduce_max(rand).numpy() )\n",
        "print(\"the max_value is\",tf.reduce_mean(rand).numpy())\n",
        "print(\"the sum is \" ,tf.reduce_sum(rand).numpy())\n",
        "print(\"the variance is \",tf.math.reduce_variance(tf.cast(rand, dtype = tf.float32)).numpy())#input tesor must be a float or complex value\n",
        "print(\"the standard deviation is \",tf.math.reduce_std(tf.cast(rand, dtype = tf.float32)).numpy())#input tesor must be a float or complex value\n",
        "\n"
      ],
      "metadata": {
        "colab": {
          "base_uri": "https://localhost:8080/"
        },
        "id": "YaK6Koo940WD",
        "outputId": "a9c3bc59-93b2-4d83-e584-b49973a95b88"
      },
      "execution_count": null,
      "outputs": [
        {
          "output_type": "stream",
          "name": "stdout",
          "text": [
            "the min val is  92\n",
            "the max_value is 45\n",
            "the sum is  2284\n",
            "the variance is  650.2176\n",
            "the standard deviation is  25.499365\n"
          ]
        }
      ]
    },
    {
      "cell_type": "code",
      "source": [
        "import tensorflow_probability as tfp\n",
        "print(tfp.stats.variance(rand).numpy()) # to get variance of int tensor\n",
        "print(tfp.stats.stddev(tf.cast(rand , dtype = tf.float32).numpy())) #alternative methods\n"
      ],
      "metadata": {
        "colab": {
          "base_uri": "https://localhost:8080/"
        },
        "id": "m3HdnJoj6c0P",
        "outputId": "868095aa-788d-49dd-81a6-5dc4abe66de8"
      },
      "execution_count": null,
      "outputs": [
        {
          "output_type": "stream",
          "name": "stdout",
          "text": [
            "650\n",
            "tf.Tensor(25.499365, shape=(), dtype=float32)\n"
          ]
        }
      ]
    },
    {
      "cell_type": "markdown",
      "source": [
        "### Positional Maximum and minimum"
      ],
      "metadata": {
        "id": "DizGZUdA8YT5"
      }
    },
    {
      "cell_type": "code",
      "source": [
        "tf.random.set_seed(43)\n",
        "F = tf.random.uniform(shape = (50,))\n",
        "F"
      ],
      "metadata": {
        "colab": {
          "base_uri": "https://localhost:8080/"
        },
        "id": "Ni2-Tyl08W13",
        "outputId": "c85297d9-508a-4b61-e417-e820088b47f8"
      },
      "execution_count": null,
      "outputs": [
        {
          "output_type": "execute_result",
          "data": {
            "text/plain": [
              "<tf.Tensor: shape=(50,), dtype=float32, numpy=\n",
              "array([0.2733041 , 0.5020257 , 0.6628481 , 0.6473899 , 0.3857293 ,\n",
              "       0.36172044, 0.5412978 , 0.48597205, 0.8773687 , 0.19192028,\n",
              "       0.9264002 , 0.89626896, 0.6672703 , 0.47216296, 0.22052324,\n",
              "       0.88224113, 0.21332026, 0.3742751 , 0.6198429 , 0.67401516,\n",
              "       0.33629417, 0.04864144, 0.00223255, 0.9375315 , 0.1595205 ,\n",
              "       0.76488817, 0.5631764 , 0.48775423, 0.4250028 , 0.29910493,\n",
              "       0.8409952 , 0.6727512 , 0.00153816, 0.4085456 , 0.9261861 ,\n",
              "       0.18742752, 0.60272205, 0.99417937, 0.42423892, 0.27978897,\n",
              "       0.9430332 , 0.80545497, 0.06359637, 0.56783044, 0.26592016,\n",
              "       0.98973536, 0.5452112 , 0.11514163, 0.53635466, 0.6935723 ],\n",
              "      dtype=float32)>"
            ]
          },
          "metadata": {},
          "execution_count": 46
        }
      ]
    },
    {
      "cell_type": "code",
      "source": [
        "tf.argmax(F)#index of max"
      ],
      "metadata": {
        "colab": {
          "base_uri": "https://localhost:8080/"
        },
        "id": "saYoBmWk8OVn",
        "outputId": "6c2433a3-7093-4897-9203-54ca63ab3851"
      },
      "execution_count": null,
      "outputs": [
        {
          "output_type": "execute_result",
          "data": {
            "text/plain": [
              "<tf.Tensor: shape=(), dtype=int64, numpy=37>"
            ]
          },
          "metadata": {},
          "execution_count": 49
        }
      ]
    },
    {
      "cell_type": "code",
      "source": [
        "#value at index of the emax\n",
        "F[tf.argmax(F)]"
      ],
      "metadata": {
        "colab": {
          "base_uri": "https://localhost:8080/"
        },
        "id": "U_DChgJUA6SH",
        "outputId": "3e8411a2-19b4-440c-a041-171968b10261"
      },
      "execution_count": null,
      "outputs": [
        {
          "output_type": "execute_result",
          "data": {
            "text/plain": [
              "<tf.Tensor: shape=(), dtype=float32, numpy=0.99417937>"
            ]
          },
          "metadata": {},
          "execution_count": 51
        }
      ]
    },
    {
      "cell_type": "code",
      "source": [
        "tf.math.reduce_max(F)"
      ],
      "metadata": {
        "colab": {
          "base_uri": "https://localhost:8080/"
        },
        "id": "DkeMJgirBEkk",
        "outputId": "ce099060-b056-46b2-f156-12ec2afaf3b8"
      },
      "execution_count": null,
      "outputs": [
        {
          "output_type": "execute_result",
          "data": {
            "text/plain": [
              "<tf.Tensor: shape=(), dtype=float32, numpy=0.99417937>"
            ]
          },
          "metadata": {},
          "execution_count": 52
        }
      ]
    },
    {
      "cell_type": "code",
      "source": [
        "F[tf.argmax(F)] == tf.math.reduce_max(F)"
      ],
      "metadata": {
        "colab": {
          "base_uri": "https://localhost:8080/"
        },
        "id": "Q3g442XPBKnQ",
        "outputId": "fdfc36b6-6dbf-4b5d-e892-a72e265c054f"
      },
      "execution_count": null,
      "outputs": [
        {
          "output_type": "execute_result",
          "data": {
            "text/plain": [
              "<tf.Tensor: shape=(), dtype=bool, numpy=True>"
            ]
          },
          "metadata": {},
          "execution_count": 53
        }
      ]
    },
    {
      "cell_type": "code",
      "source": [
        "tf.argmin(F)#index of min"
      ],
      "metadata": {
        "colab": {
          "base_uri": "https://localhost:8080/"
        },
        "id": "00qo7ClgBY5F",
        "outputId": "594b9d3a-07d5-403e-ac28-342cad7d7497"
      },
      "execution_count": null,
      "outputs": [
        {
          "output_type": "execute_result",
          "data": {
            "text/plain": [
              "<tf.Tensor: shape=(), dtype=int64, numpy=32>"
            ]
          },
          "metadata": {},
          "execution_count": 54
        }
      ]
    },
    {
      "cell_type": "code",
      "source": [
        "F[tf.argmax(F)]\n"
      ],
      "metadata": {
        "colab": {
          "base_uri": "https://localhost:8080/"
        },
        "id": "_tWWR-NvBeOF",
        "outputId": "28c5cf05-abca-44ba-b5a5-427a6493bf90"
      },
      "execution_count": null,
      "outputs": [
        {
          "output_type": "execute_result",
          "data": {
            "text/plain": [
              "<tf.Tensor: shape=(), dtype=float32, numpy=0.99417937>"
            ]
          },
          "metadata": {},
          "execution_count": 55
        }
      ]
    },
    {
      "cell_type": "markdown",
      "source": [
        "### Squeezing a tensor removing all the single dimension"
      ],
      "metadata": {
        "id": "xWEZo5IdBzPY"
      }
    },
    {
      "cell_type": "code",
      "source": [
        "G  = tf.constant(tf.random.uniform(shape = (50,)) , shape = (1,1,1,1,50))\n",
        "G"
      ],
      "metadata": {
        "colab": {
          "base_uri": "https://localhost:8080/"
        },
        "id": "8bonLyplBytE",
        "outputId": "d46e9782-fb53-42c6-8d73-504cd7cfae01"
      },
      "execution_count": null,
      "outputs": [
        {
          "output_type": "execute_result",
          "data": {
            "text/plain": [
              "<tf.Tensor: shape=(1, 1, 1, 1, 50), dtype=float32, numpy=\n",
              "array([[[[[0.37664938, 0.7430246 , 0.69035363, 0.97365904, 0.0374527 ,\n",
              "           0.27133918, 0.19803417, 0.67543113, 0.73922336, 0.02532101,\n",
              "           0.8291918 , 0.48841584, 0.2185278 , 0.8247535 , 0.88936913,\n",
              "           0.8036902 , 0.38279164, 0.30433893, 0.29234076, 0.2935145 ,\n",
              "           0.5639998 , 0.9598874 , 0.74853563, 0.25989103, 0.53625417,\n",
              "           0.2177527 , 0.9593824 , 0.1559279 , 0.16658998, 0.7309809 ,\n",
              "           0.74731255, 0.86929107, 0.53941727, 0.53889453, 0.57927895,\n",
              "           0.33802235, 0.32572114, 0.11746407, 0.43904614, 0.10065258,\n",
              "           0.04531574, 0.14416969, 0.49766517, 0.26956677, 0.65565145,\n",
              "           0.17797768, 0.14637959, 0.87881744, 0.4267038 , 0.78181314]]]]],\n",
              "      dtype=float32)>"
            ]
          },
          "metadata": {},
          "execution_count": 58
        }
      ]
    },
    {
      "cell_type": "code",
      "source": [
        "G.ndim , G.shape"
      ],
      "metadata": {
        "colab": {
          "base_uri": "https://localhost:8080/"
        },
        "id": "iJYzzjB8COcP",
        "outputId": "d506d711-74d5-4cb6-ef3b-124f2742d318"
      },
      "execution_count": null,
      "outputs": [
        {
          "output_type": "execute_result",
          "data": {
            "text/plain": [
              "(5, TensorShape([1, 1, 1, 1, 50]))"
            ]
          },
          "metadata": {},
          "execution_count": 59
        }
      ]
    },
    {
      "cell_type": "code",
      "source": [
        "G_squeezed = tf.squeeze(G)\n",
        "G_squeezed , G_squeezed.shape"
      ],
      "metadata": {
        "colab": {
          "base_uri": "https://localhost:8080/"
        },
        "id": "fV0AsBm_CT_2",
        "outputId": "9f94c400-f032-485b-babc-f30e4d3d2ae0"
      },
      "execution_count": null,
      "outputs": [
        {
          "output_type": "execute_result",
          "data": {
            "text/plain": [
              "(<tf.Tensor: shape=(50,), dtype=float32, numpy=\n",
              " array([0.37664938, 0.7430246 , 0.69035363, 0.97365904, 0.0374527 ,\n",
              "        0.27133918, 0.19803417, 0.67543113, 0.73922336, 0.02532101,\n",
              "        0.8291918 , 0.48841584, 0.2185278 , 0.8247535 , 0.88936913,\n",
              "        0.8036902 , 0.38279164, 0.30433893, 0.29234076, 0.2935145 ,\n",
              "        0.5639998 , 0.9598874 , 0.74853563, 0.25989103, 0.53625417,\n",
              "        0.2177527 , 0.9593824 , 0.1559279 , 0.16658998, 0.7309809 ,\n",
              "        0.74731255, 0.86929107, 0.53941727, 0.53889453, 0.57927895,\n",
              "        0.33802235, 0.32572114, 0.11746407, 0.43904614, 0.10065258,\n",
              "        0.04531574, 0.14416969, 0.49766517, 0.26956677, 0.65565145,\n",
              "        0.17797768, 0.14637959, 0.87881744, 0.4267038 , 0.78181314],\n",
              "       dtype=float32)>,\n",
              " TensorShape([50]))"
            ]
          },
          "metadata": {},
          "execution_count": 63
        }
      ]
    },
    {
      "cell_type": "markdown",
      "source": [
        "### One hot encoading\n",
        "  One-hot encoding is a technique used to represent categorical data in a binary format, where each category is represented by a unique binary code. This is commonly used in machine learning when dealing with categorical variables in data preprocessing.\n",
        "\n",
        "  Here's how one-hot encoding works:\n",
        "\n",
        "  Suppose you have a categorical variable with three categories: \"red\", \"green\", and \"blue\". With one-hot encoding, each category is transformed into a binary vector where only one element is 1 (hot) and the rest are 0 (cold):\n",
        "\n",
        "  \"red\" becomes [1, 0, 0]\n",
        "  \"green\" becomes [0, 1, 0]\n",
        "  \"blue\" becomes [0, 0, 1]"
      ],
      "metadata": {
        "id": "rkP43DqjDDSr"
      }
    },
    {
      "cell_type": "code",
      "source": [
        "#create a list of index\n",
        "some_list = [0,1,2,3]\n",
        "depth = 4\n",
        "tf.one_hot(some_list , depth)"
      ],
      "metadata": {
        "colab": {
          "base_uri": "https://localhost:8080/"
        },
        "id": "scbYUxoYDDA4",
        "outputId": "10505da6-229f-4b71-8578-eae269cb88d1"
      },
      "execution_count": null,
      "outputs": [
        {
          "output_type": "execute_result",
          "data": {
            "text/plain": [
              "<tf.Tensor: shape=(4, 4), dtype=float32, numpy=\n",
              "array([[1., 0., 0., 0.],\n",
              "       [0., 1., 0., 0.],\n",
              "       [0., 0., 1., 0.],\n",
              "       [0., 0., 0., 1.]], dtype=float32)>"
            ]
          },
          "metadata": {},
          "execution_count": 64
        }
      ]
    },
    {
      "cell_type": "code",
      "source": [
        "#specify custom value for one hot\n",
        "tf.one_hot(some_list , depth = 4 , on_value = 'deeplearning',off_value = 'sing')"
      ],
      "metadata": {
        "colab": {
          "base_uri": "https://localhost:8080/"
        },
        "id": "wvLa6LBvFBgm",
        "outputId": "e58f46b3-d52a-464a-af99-22b7a5fdc46c"
      },
      "execution_count": null,
      "outputs": [
        {
          "output_type": "execute_result",
          "data": {
            "text/plain": [
              "<tf.Tensor: shape=(4, 4), dtype=string, numpy=\n",
              "array([[b'deeplearning', b'sing', b'sing', b'sing'],\n",
              "       [b'sing', b'deeplearning', b'sing', b'sing'],\n",
              "       [b'sing', b'sing', b'deeplearning', b'sing'],\n",
              "       [b'sing', b'sing', b'sing', b'deeplearning']], dtype=object)>"
            ]
          },
          "metadata": {},
          "execution_count": 66
        }
      ]
    },
    {
      "cell_type": "markdown",
      "source": [
        "# squaring and log"
      ],
      "metadata": {
        "id": "ajMQ1iQ9F0e2"
      }
    },
    {
      "cell_type": "code",
      "source": [
        "H = tf.range(1 , 10)\n",
        "H"
      ],
      "metadata": {
        "colab": {
          "base_uri": "https://localhost:8080/"
        },
        "id": "ClwgOBMjFxn5",
        "outputId": "fb58e89f-d861-462e-8053-2d0a8acff500"
      },
      "execution_count": null,
      "outputs": [
        {
          "output_type": "execute_result",
          "data": {
            "text/plain": [
              "<tf.Tensor: shape=(9,), dtype=int32, numpy=array([1, 2, 3, 4, 5, 6, 7, 8, 9], dtype=int32)>"
            ]
          },
          "metadata": {},
          "execution_count": 67
        }
      ]
    },
    {
      "cell_type": "code",
      "source": [
        "tf.square(H)"
      ],
      "metadata": {
        "colab": {
          "base_uri": "https://localhost:8080/"
        },
        "id": "uhuBhPbuGC7y",
        "outputId": "c35dc284-6d32-405b-9452-310da0f951ee"
      },
      "execution_count": null,
      "outputs": [
        {
          "output_type": "execute_result",
          "data": {
            "text/plain": [
              "<tf.Tensor: shape=(9,), dtype=int32, numpy=array([ 1,  4,  9, 16, 25, 36, 49, 64, 81], dtype=int32)>"
            ]
          },
          "metadata": {},
          "execution_count": 68
        }
      ]
    },
    {
      "cell_type": "code",
      "source": [
        "#find the squreroot"
      ],
      "metadata": {
        "id": "uKLKKF2bGI-v"
      },
      "execution_count": null,
      "outputs": []
    },
    {
      "cell_type": "code",
      "source": [
        "tf.math.sqrt(tf.cast(H , dtype = tf.float16))"
      ],
      "metadata": {
        "colab": {
          "base_uri": "https://localhost:8080/"
        },
        "id": "BtQ6_2MHGOXQ",
        "outputId": "1700f6e5-61d1-48cb-dca9-03dda3d87393"
      },
      "execution_count": null,
      "outputs": [
        {
          "output_type": "execute_result",
          "data": {
            "text/plain": [
              "<tf.Tensor: shape=(9,), dtype=float16, numpy=\n",
              "array([1.   , 1.414, 1.732, 2.   , 2.236, 2.45 , 2.646, 2.828, 3.   ],\n",
              "      dtype=float16)>"
            ]
          },
          "metadata": {},
          "execution_count": 74
        }
      ]
    },
    {
      "cell_type": "code",
      "source": [
        "tf.math.log(tf.cast(H , dtype = tf.float32)) # int32 ot=r int64 not allowed"
      ],
      "metadata": {
        "colab": {
          "base_uri": "https://localhost:8080/"
        },
        "id": "SsYscPpxGhLK",
        "outputId": "007e3e28-075a-4fa0-d17e-c716ffb8b9af"
      },
      "execution_count": null,
      "outputs": [
        {
          "output_type": "execute_result",
          "data": {
            "text/plain": [
              "<tf.Tensor: shape=(9,), dtype=float32, numpy=\n",
              "array([0.       , 0.6931472, 1.0986123, 1.3862944, 1.609438 , 1.7917595,\n",
              "       1.9459102, 2.0794415, 2.1972246], dtype=float32)>"
            ]
          },
          "metadata": {},
          "execution_count": 76
        }
      ]
    },
    {
      "cell_type": "markdown",
      "source": [
        "# Numpy and tensor flow"
      ],
      "metadata": {
        "id": "2JAM3rxuG6zG"
      }
    },
    {
      "cell_type": "code",
      "source": [
        "import numpy as np\n",
        "\n",
        "J =  tf.constant(np.arange(1,10,2))\n",
        "J"
      ],
      "metadata": {
        "colab": {
          "base_uri": "https://localhost:8080/"
        },
        "id": "VP1x_BW0GvEx",
        "outputId": "bf30b8f8-a989-462e-f3c0-7a5215cb160e"
      },
      "execution_count": null,
      "outputs": [
        {
          "output_type": "execute_result",
          "data": {
            "text/plain": [
              "<tf.Tensor: shape=(5,), dtype=int64, numpy=array([1, 3, 5, 7, 9])>"
            ]
          },
          "metadata": {},
          "execution_count": 80
        }
      ]
    },
    {
      "cell_type": "code",
      "source": [
        "np.array(J)"
      ],
      "metadata": {
        "colab": {
          "base_uri": "https://localhost:8080/"
        },
        "id": "WOh3G8EKJLWu",
        "outputId": "7435c02c-5492-4f2f-f268-e26f49c40c28"
      },
      "execution_count": null,
      "outputs": [
        {
          "output_type": "execute_result",
          "data": {
            "text/plain": [
              "array([1, 3, 5, 7, 9])"
            ]
          },
          "metadata": {},
          "execution_count": 81
        }
      ]
    },
    {
      "cell_type": "code",
      "source": [
        "#default type are a bot different\n",
        "\n",
        "numpy_J = tf.constant(np.array([3,5,6,7]))\n",
        "tensor_J = tf.constant([1,2,3,4])\n",
        "numpy_J.dtype , tensor_J.dtype"
      ],
      "metadata": {
        "colab": {
          "base_uri": "https://localhost:8080/"
        },
        "id": "m2fv8R1OJgsO",
        "outputId": "42dce703-d871-4a85-9a33-680ad8a33e29"
      },
      "execution_count": null,
      "outputs": [
        {
          "output_type": "execute_result",
          "data": {
            "text/plain": [
              "(tf.int64, tf.int32)"
            ]
          },
          "metadata": {},
          "execution_count": 82
        }
      ]
    },
    {
      "cell_type": "markdown",
      "source": [
        "# how to run code faster"
      ],
      "metadata": {
        "id": "N7glsGBlKPoT"
      }
    },
    {
      "cell_type": "code",
      "source": [
        "tf.config.list_physical_devices()"
      ],
      "metadata": {
        "colab": {
          "base_uri": "https://localhost:8080/"
        },
        "id": "gia9J0V4KVwp",
        "outputId": "867c70d5-63cd-4561-b8ea-ce8b36f20e5b"
      },
      "execution_count": null,
      "outputs": [
        {
          "output_type": "execute_result",
          "data": {
            "text/plain": [
              "[PhysicalDevice(name='/physical_device:CPU:0', device_type='CPU')]"
            ]
          },
          "metadata": {},
          "execution_count": 83
        }
      ]
    },
    {
      "cell_type": "code",
      "source": [
        "tf.config.list_logical_devices()"
      ],
      "metadata": {
        "colab": {
          "base_uri": "https://localhost:8080/"
        },
        "id": "I6wweEeALUgy",
        "outputId": "f6f70ca4-aac6-4b7f-a921-5fce490b64e8"
      },
      "execution_count": null,
      "outputs": [
        {
          "output_type": "execute_result",
          "data": {
            "text/plain": [
              "[LogicalDevice(name='/device:CPU:0', device_type='CPU')]"
            ]
          },
          "metadata": {},
          "execution_count": 85
        }
      ]
    },
    {
      "cell_type": "code",
      "source": [
        "!nvidia-smi"
      ],
      "metadata": {
        "colab": {
          "base_uri": "https://localhost:8080/"
        },
        "id": "1EOEQyfOL1bX",
        "outputId": "da87c31a-5fff-4542-aaf7-cac826a672f2"
      },
      "execution_count": null,
      "outputs": [
        {
          "output_type": "stream",
          "name": "stdout",
          "text": [
            "Sat Aug  5 05:34:42 2023       \n",
            "+-----------------------------------------------------------------------------+\n",
            "| NVIDIA-SMI 525.105.17   Driver Version: 525.105.17   CUDA Version: 12.0     |\n",
            "|-------------------------------+----------------------+----------------------+\n",
            "| GPU  Name        Persistence-M| Bus-Id        Disp.A | Volatile Uncorr. ECC |\n",
            "| Fan  Temp  Perf  Pwr:Usage/Cap|         Memory-Usage | GPU-Util  Compute M. |\n",
            "|                               |                      |               MIG M. |\n",
            "|===============================+======================+======================|\n",
            "|   0  Tesla T4            Off  | 00000000:00:04.0 Off |                    0 |\n",
            "| N/A   52C    P8    12W /  70W |      0MiB / 15360MiB |      0%      Default |\n",
            "|                               |                      |                  N/A |\n",
            "+-------------------------------+----------------------+----------------------+\n",
            "                                                                               \n",
            "+-----------------------------------------------------------------------------+\n",
            "| Processes:                                                                  |\n",
            "|  GPU   GI   CI        PID   Type   Process name                  GPU Memory |\n",
            "|        ID   ID                                                   Usage      |\n",
            "|=============================================================================|\n",
            "|  No running processes found                                                 |\n",
            "+-----------------------------------------------------------------------------+\n"
          ]
        }
      ]
    },
    {
      "cell_type": "markdown",
      "source": [
        "# Exercise"
      ],
      "metadata": {
        "id": "VI-APS3hM2rW"
      }
    },
    {
      "cell_type": "code",
      "source": [
        "import tensorflow as tf\n",
        "import numpy as np\n",
        "\n",
        "#creating scalar , vector , matrix ,tensor\n",
        "scalar = tf.constant(4 , dtype = tf.int8)\n",
        "print(scalar)\n",
        "vector = tf.constant(np.arange(0,6) , shape = (6,) , dtype = tf.int8)\n",
        "print(vector.ndim , vector , vector.shape )\n",
        "matrix = tf.constant(np.arange(0,6) , shape = (2,3), dtype= tf.int32)\n",
        "print(matrix.ndim , matrix.numpy() , matrix.shape)\n",
        "tensor=  tf.constant(np.arange(0,6) , shape = (2,3,1), dtype= tf.int32)\n",
        "print(tensor.ndim , tensor.numpy() , tensor.shape)\n"
      ],
      "metadata": {
        "colab": {
          "base_uri": "https://localhost:8080/"
        },
        "id": "R31njc7WMRyl",
        "outputId": "93a7a7ce-3c61-46e8-f9af-8f32cfec17e1"
      },
      "execution_count": null,
      "outputs": [
        {
          "output_type": "stream",
          "name": "stdout",
          "text": [
            "tf.Tensor(4, shape=(), dtype=int8)\n",
            "1 tf.Tensor([0 1 2 3 4 5], shape=(6,), dtype=int8) (6,)\n",
            "2 [[0 1 2]\n",
            " [3 4 5]] (2, 3)\n",
            "3 [[[0]\n",
            "  [1]\n",
            "  [2]]\n",
            "\n",
            " [[3]\n",
            "  [4]\n",
            "  [5]]] (2, 3, 1)\n"
          ]
        }
      ]
    },
    {
      "cell_type": "code",
      "source": [],
      "metadata": {
        "id": "M4lmI0p_OvyO"
      },
      "execution_count": null,
      "outputs": []
    }
  ]
}